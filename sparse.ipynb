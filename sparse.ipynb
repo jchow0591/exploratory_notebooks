{
 "cells": [
  {
   "cell_type": "markdown",
   "metadata": {},
   "source": [
    "## Sparse\n",
    "The purpose of this notebook is to simulate what would happen given a sparse but highly discriminative feature. An example of which is as follows:\n",
    "\n",
    "| x_1 | ... | x_n | y   |\n",
    "| --- | --- | --- | --- |\n",
    "| 1   | ... | 1   | 1   |\n",
    "| 2   | ... | 1   | 1   |\n",
    "| 3   | ... | 0   | 0   |\n",
    "| 4   | ... | 0   | 0   |\n",
    "| ... | ... | ... | ... |\n",
    "| n-2 | ... | 0   | 1   |\n",
    "| n-1 | ... | 0   | 1   |\n",
    "| n   | ... | 0   | 1   |\n",
    "\n",
    "where given feature ``x_1`` the decision boundary is somewhere around ``n/2``. However, if ``x_n`` is equal to 1, although sparse, y is also in the positive class. All features are linear in these cases."
   ]
  },
  {
   "cell_type": "code",
   "execution_count": 1,
   "metadata": {},
   "outputs": [],
   "source": [
    "import numpy as np\n",
    "np.random.seed(42)"
   ]
  },
  {
   "cell_type": "markdown",
   "metadata": {},
   "source": [
    "## Logistic Regression\n",
    "\n",
    "To keep our tests as vanilla as possible, our algos will be written from scratch."
   ]
  },
  {
   "cell_type": "code",
   "execution_count": 150,
   "metadata": {},
   "outputs": [],
   "source": [
    "class LogisticRegression:\n",
    "    def __init__(self, learning_step, learning_rate):\n",
    "        self.learning_step = learning_step\n",
    "        self.learning_rate = learning_rate\n",
    "        self.weights = None\n",
    "        self.bias = None\n",
    "        \n",
    "    def linear_reg(self, w, x):\n",
    "        return np.dot(x, w)\n",
    "    \n",
    "    def sigmoid(self, z):\n",
    "        return 1.0 / ( 1.0 + np.exp(-1.0 * z))\n",
    "    \n",
    "    def fit(self, x, y):\n",
    "        self.intercepts = np.zeros((x.shape[0], 1))\n",
    "        x = np.concatenate((self.intercepts, x), axis=1)\n",
    "        self.weights = np.zeros(x.shape[1])\n",
    "        for step in range(self.learning_step):\n",
    "            z = self.linear_reg(self.weights, x)\n",
    "            sig = self.sigmoid(z)\n",
    "            gradient = np.dot(x.transpose(), (sig - y)) / y.size\n",
    "            self.weights -= self.learning_rate * gradient \n",
    "        print(self.weights)\n",
    "        \n",
    "    def predict(self, x):\n",
    "        self.intercepts = np.zeros((x.shape[0], 1))\n",
    "        x = np.concatenate((self.intercepts, x), axis=1)\n",
    "        return self.sigmoid(np.dot(x, self.weights))"
   ]
  },
  {
   "cell_type": "markdown",
   "metadata": {},
   "source": [
    "## Null\n",
    "First let's test the impact of completely non-pertinant features"
   ]
  },
  {
   "cell_type": "code",
   "execution_count": 88,
   "metadata": {},
   "outputs": [],
   "source": [
    "num_zeros  = 10\n",
    "num_ones = 20\n",
    "x = np.concatenate(\n",
    "    (\n",
    "        np.zeros((num_zeros, 1)), \n",
    "        np.ones((num_ones, 1))\n",
    "    )\n",
    ")\n",
    "y = np.concatenate(\n",
    "    (\n",
    "        np.zeros((num_zeros)), \n",
    "        np.ones((num_ones))\n",
    "    )\n",
    ")"
   ]
  },
  {
   "cell_type": "code",
   "execution_count": 151,
   "metadata": {},
   "outputs": [
    {
     "name": "stdout",
     "output_type": "stream",
     "text": [
      "[-5.38570938 11.87369213]\n"
     ]
    },
    {
     "data": {
      "text/plain": [
       "array([0.00456069, 0.00456069, 0.00456069, 0.00456069, 0.00456069,\n",
       "       0.00456069, 0.00456069, 0.00456069, 0.00456069, 0.00456069,\n",
       "       0.9984807 , 0.9984807 , 0.9984807 , 0.9984807 , 0.9984807 ,\n",
       "       0.9984807 , 0.9984807 , 0.9984807 , 0.9984807 , 0.9984807 ,\n",
       "       0.9984807 , 0.9984807 , 0.9984807 , 0.9984807 , 0.9984807 ,\n",
       "       0.9984807 , 0.9984807 , 0.9984807 , 0.9984807 , 0.9984807 ])"
      ]
     },
     "execution_count": 151,
     "metadata": {},
     "output_type": "execute_result"
    }
   ],
   "source": [
    "lr = LogisticRegression(100000, 0.02)\n",
    "lr.fit(x, y)\n",
    "lr.predict(x)"
   ]
  },
  {
   "cell_type": "code",
   "execution_count": null,
   "metadata": {},
   "outputs": [],
   "source": []
  },
  {
   "cell_type": "code",
   "execution_count": 47,
   "metadata": {},
   "outputs": [
    {
     "data": {
      "text/plain": [
       "(60, 1)"
      ]
     },
     "execution_count": 47,
     "metadata": {},
     "output_type": "execute_result"
    }
   ],
   "source": [
    "x.shape"
   ]
  },
  {
   "cell_type": "code",
   "execution_count": 254,
   "metadata": {},
   "outputs": [
    {
     "data": {
      "text/plain": [
       "array([[0.        ],\n",
       "       [0.        ],\n",
       "       [1.25547868]])"
      ]
     },
     "execution_count": 254,
     "metadata": {},
     "output_type": "execute_result"
    }
   ],
   "source": [
    "z = lr.linear_reg(lr.weights, x)"
   ]
  },
  {
   "cell_type": "code",
   "execution_count": 260,
   "metadata": {},
   "outputs": [
    {
     "data": {
      "text/plain": [
       "0.5"
      ]
     },
     "execution_count": 260,
     "metadata": {},
     "output_type": "execute_result"
    }
   ],
   "source": [
    "lr.sigmoid(0)"
   ]
  },
  {
   "cell_type": "code",
   "execution_count": 86,
   "metadata": {},
   "outputs": [
    {
     "data": {
      "text/plain": [
       "0.999999694097773"
      ]
     },
     "execution_count": 86,
     "metadata": {},
     "output_type": "execute_result"
    }
   ],
   "source": [
    "z = linear_reg(np.array([3,2,1]), np.array([1,2,3]), 5)\n",
    "sigmoid(z)"
   ]
  },
  {
   "cell_type": "code",
   "execution_count": 50,
   "metadata": {},
   "outputs": [],
   "source": [
    "def generate_features(feature_ranges, samples=10000):\n",
    "    feature_vec = []\n",
    "    for feature in feature_ranges:\n",
    "        increm = (feature[2] - feature[1])/(samples-1)\n",
    "        feature_vec.append(\n",
    "            (\n",
    "                feature[0],\n",
    "                [(increm * x) + feature[1] for x in range(samples)]\n",
    "            )\n",
    "        )\n",
    "    return feature_vec"
   ]
  },
  {
   "cell_type": "code",
   "execution_count": 61,
   "metadata": {},
   "outputs": [],
   "source": [
    "def generate_y(pos_ratio, sample=10000):\n",
    "    \n",
    "    return [0] * int(sample * (1 - pos_ratio)) + [1] * int(sample * pos_ratio)"
   ]
  },
  {
   "cell_type": "code",
   "execution_count": 62,
   "metadata": {},
   "outputs": [],
   "source": [
    "def generate"
   ]
  },
  {
   "cell_type": "code",
   "execution_count": 62,
   "metadata": {},
   "outputs": [],
   "source": [
    "features = [\n",
    "    ('x_1', 1, 100000)\n",
    "]"
   ]
  },
  {
   "cell_type": "code",
   "execution_count": 63,
   "metadata": {},
   "outputs": [],
   "source": [
    "x = generate_features(features)"
   ]
  },
  {
   "cell_type": "code",
   "execution_count": 68,
   "metadata": {},
   "outputs": [
    {
     "data": {
      "text/plain": [
       "[0, 0, 0, 0, 0, 0, 0, 0, 0]"
      ]
     },
     "execution_count": 68,
     "metadata": {},
     "output_type": "execute_result"
    }
   ],
   "source": []
  },
  {
   "cell_type": "code",
   "execution_count": 52,
   "metadata": {},
   "outputs": [],
   "source": []
  },
  {
   "cell_type": "code",
   "execution_count": null,
   "metadata": {},
   "outputs": [],
   "source": []
  },
  {
   "cell_type": "code",
   "execution_count": null,
   "metadata": {},
   "outputs": [],
   "source": []
  },
  {
   "cell_type": "code",
   "execution_count": null,
   "metadata": {},
   "outputs": [],
   "source": []
  },
  {
   "cell_type": "code",
   "execution_count": null,
   "metadata": {},
   "outputs": [],
   "source": []
  },
  {
   "cell_type": "code",
   "execution_count": null,
   "metadata": {},
   "outputs": [],
   "source": []
  }
 ],
 "metadata": {
  "kernelspec": {
   "display_name": "Python 3",
   "language": "python",
   "name": "python3"
  },
  "language_info": {
   "codemirror_mode": {
    "name": "ipython",
    "version": 3
   },
   "file_extension": ".py",
   "mimetype": "text/x-python",
   "name": "python",
   "nbconvert_exporter": "python",
   "pygments_lexer": "ipython3",
   "version": "3.7.1"
  }
 },
 "nbformat": 4,
 "nbformat_minor": 2
}
