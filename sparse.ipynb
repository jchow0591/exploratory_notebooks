{
 "cells": [
  {
   "cell_type": "markdown",
   "metadata": {},
   "source": [
    "## Sparse\n",
    "The purpose of this notebook is to simulate what would happen given a sparse but highly discriminative feature. An example of which is as follows:\n",
    "\n",
    "| x_1 | ... | x_n | y   |\n",
    "| --- | --- | --- | --- |\n",
    "| 1   | ... | 1   | 1   |\n",
    "| 2   | ... | 1   | 1   |\n",
    "| 3   | ... | 0   | 0   |\n",
    "| 4   | ... | 0   | 0   |\n",
    "| ... | ... | ... | ... |\n",
    "| n-2 | ... | 0   | 1   |\n",
    "| n-1 | ... | 0   | 1   |\n",
    "| n   | ... | 0   | 1   |\n",
    "\n",
    "where given feature ``x_1`` the decision boundary is somewhere around ``n/2``. However, if ``x_n`` is equal to 1, although sparse, y is also in the positive class. All features are linear in these cases."
   ]
  },
  {
   "cell_type": "code",
   "execution_count": 2,
   "metadata": {},
   "outputs": [],
   "source": [
    "import numpy as np\n",
    "np.random.seed(42)"
   ]
  },
  {
   "cell_type": "markdown",
   "metadata": {},
   "source": [
    "## Null\n",
    "First let's test the impact of completely non-pertinant features"
   ]
  },
  {
   "cell_type": "code",
   "execution_count": 350,
   "metadata": {},
   "outputs": [],
   "source": [
    "class LogisticRegression:\n",
    "    def __init__(self, learning_step, learning_rate):\n",
    "        self.learning_step = learning_step\n",
    "        self.learning_rate = learning_rate\n",
    "        self.weights = None\n",
    "        \n",
    "    def linear_reg(self, w, x):\n",
    "        return np.dot(x, w)\n",
    "    \n",
    "    def sigmoid(self, z):\n",
    "        return 1 / ( 1 + np.exp(-1 * z))\n",
    "    \n",
    "    def fit(self, x, y):\n",
    "        w = np.array([[0.0] * x.shape[1]])\n",
    "        for step in range(self.learning_step):\n",
    "            z = self.linear_reg(w, x)\n",
    "            sig = sigmoid(z)\n",
    "            gradient = (1/x.shape[0]) * np.sum((y - sig))\n",
    "            w += gradient * self.learning_rate\n",
    "        self.weights = w\n",
    "    \n",
    "    def predict(self, x):\n",
    "        z = self.linear_reg(self.weights, x)\n",
    "        return sigmoid(z)"
   ]
  },
  {
   "cell_type": "code",
   "execution_count": 351,
   "metadata": {},
   "outputs": [],
   "source": [
    "x = np.vstack(\n",
    "    (\n",
    "        np.zeros((3, 1)), \n",
    "        np.ones((50, 1))\n",
    "    )\n",
    ")\n",
    "y = x"
   ]
  },
  {
   "cell_type": "code",
   "execution_count": 352,
   "metadata": {},
   "outputs": [
    {
     "data": {
      "text/plain": [
       "array([[0.5       ],\n",
       "       [0.5       ],\n",
       "       [0.5       ],\n",
       "       [0.77058072],\n",
       "       [0.77058072],\n",
       "       [0.77058072],\n",
       "       [0.77058072],\n",
       "       [0.77058072],\n",
       "       [0.77058072],\n",
       "       [0.77058072],\n",
       "       [0.77058072],\n",
       "       [0.77058072],\n",
       "       [0.77058072],\n",
       "       [0.77058072],\n",
       "       [0.77058072],\n",
       "       [0.77058072],\n",
       "       [0.77058072],\n",
       "       [0.77058072],\n",
       "       [0.77058072],\n",
       "       [0.77058072],\n",
       "       [0.77058072],\n",
       "       [0.77058072],\n",
       "       [0.77058072],\n",
       "       [0.77058072],\n",
       "       [0.77058072],\n",
       "       [0.77058072],\n",
       "       [0.77058072],\n",
       "       [0.77058072],\n",
       "       [0.77058072],\n",
       "       [0.77058072],\n",
       "       [0.77058072],\n",
       "       [0.77058072],\n",
       "       [0.77058072],\n",
       "       [0.77058072],\n",
       "       [0.77058072],\n",
       "       [0.77058072],\n",
       "       [0.77058072],\n",
       "       [0.77058072],\n",
       "       [0.77058072],\n",
       "       [0.77058072],\n",
       "       [0.77058072],\n",
       "       [0.77058072],\n",
       "       [0.77058072],\n",
       "       [0.77058072],\n",
       "       [0.77058072],\n",
       "       [0.77058072],\n",
       "       [0.77058072],\n",
       "       [0.77058072],\n",
       "       [0.77058072],\n",
       "       [0.77058072],\n",
       "       [0.77058072],\n",
       "       [0.77058072],\n",
       "       [0.77058072]])"
      ]
     },
     "execution_count": 352,
     "metadata": {},
     "output_type": "execute_result"
    }
   ],
   "source": [
    "lr = LogisticRegression(10, 0.2)\n",
    "lr.fit(x, y)\n",
    "lr.predict(x)"
   ]
  },
  {
   "cell_type": "code",
   "execution_count": 336,
   "metadata": {},
   "outputs": [
    {
     "data": {
      "text/plain": [
       "array([[1.44136242]])"
      ]
     },
     "execution_count": 336,
     "metadata": {},
     "output_type": "execute_result"
    }
   ],
   "source": [
    "(lr.weights)"
   ]
  },
  {
   "cell_type": "code",
   "execution_count": 259,
   "metadata": {},
   "outputs": [
    {
     "data": {
      "text/plain": [
       "array([[0],\n",
       "       [0],\n",
       "       [1]])"
      ]
     },
     "execution_count": 259,
     "metadata": {},
     "output_type": "execute_result"
    }
   ],
   "source": [
    "(x)"
   ]
  },
  {
   "cell_type": "code",
   "execution_count": 254,
   "metadata": {},
   "outputs": [
    {
     "data": {
      "text/plain": [
       "array([[0.        ],\n",
       "       [0.        ],\n",
       "       [1.25547868]])"
      ]
     },
     "execution_count": 254,
     "metadata": {},
     "output_type": "execute_result"
    }
   ],
   "source": [
    "z = lr.linear_reg(lr.weights, x)"
   ]
  },
  {
   "cell_type": "code",
   "execution_count": 260,
   "metadata": {},
   "outputs": [
    {
     "data": {
      "text/plain": [
       "0.5"
      ]
     },
     "execution_count": 260,
     "metadata": {},
     "output_type": "execute_result"
    }
   ],
   "source": [
    "lr.sigmoid(0)"
   ]
  },
  {
   "cell_type": "code",
   "execution_count": 86,
   "metadata": {},
   "outputs": [
    {
     "data": {
      "text/plain": [
       "0.999999694097773"
      ]
     },
     "execution_count": 86,
     "metadata": {},
     "output_type": "execute_result"
    }
   ],
   "source": [
    "z = linear_reg(np.array([3,2,1]), np.array([1,2,3]), 5)\n",
    "sigmoid(z)"
   ]
  },
  {
   "cell_type": "code",
   "execution_count": 50,
   "metadata": {},
   "outputs": [],
   "source": [
    "def generate_features(feature_ranges, samples=10000):\n",
    "    feature_vec = []\n",
    "    for feature in feature_ranges:\n",
    "        increm = (feature[2] - feature[1])/(samples-1)\n",
    "        feature_vec.append(\n",
    "            (\n",
    "                feature[0],\n",
    "                [(increm * x) + feature[1] for x in range(samples)]\n",
    "            )\n",
    "        )\n",
    "    return feature_vec"
   ]
  },
  {
   "cell_type": "code",
   "execution_count": 61,
   "metadata": {},
   "outputs": [],
   "source": [
    "def generate_y(pos_ratio, sample=10000):\n",
    "    \n",
    "    return [0] * int(sample * (1 - pos_ratio)) + [1] * int(sample * pos_ratio)"
   ]
  },
  {
   "cell_type": "code",
   "execution_count": 62,
   "metadata": {},
   "outputs": [],
   "source": [
    "def generate"
   ]
  },
  {
   "cell_type": "code",
   "execution_count": 62,
   "metadata": {},
   "outputs": [],
   "source": [
    "features = [\n",
    "    ('x_1', 1, 100000)\n",
    "]"
   ]
  },
  {
   "cell_type": "code",
   "execution_count": 63,
   "metadata": {},
   "outputs": [],
   "source": [
    "x = generate_features(features)"
   ]
  },
  {
   "cell_type": "code",
   "execution_count": 68,
   "metadata": {},
   "outputs": [
    {
     "data": {
      "text/plain": [
       "[0, 0, 0, 0, 0, 0, 0, 0, 0]"
      ]
     },
     "execution_count": 68,
     "metadata": {},
     "output_type": "execute_result"
    }
   ],
   "source": []
  },
  {
   "cell_type": "code",
   "execution_count": null,
   "metadata": {},
   "outputs": [],
   "source": []
  }
 ],
 "metadata": {
  "kernelspec": {
   "display_name": "Python 3",
   "language": "python",
   "name": "python3"
  },
  "language_info": {
   "codemirror_mode": {
    "name": "ipython",
    "version": 3
   },
   "file_extension": ".py",
   "mimetype": "text/x-python",
   "name": "python",
   "nbconvert_exporter": "python",
   "pygments_lexer": "ipython3",
   "version": "3.7.1"
  }
 },
 "nbformat": 4,
 "nbformat_minor": 2
}
